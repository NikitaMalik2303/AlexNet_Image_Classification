{
 "cells": [
  {
   "cell_type": "markdown",
   "metadata": {},
   "source": [
    "# Importing the libraries"
   ]
  },
  {
   "cell_type": "code",
   "execution_count": 1,
   "metadata": {
    "id": "xhx7qk0EjPO0"
   },
   "outputs": [],
   "source": [
    "import numpy as np\n",
    "import pandas as pd\n",
    "import matplotlib.pyplot as plt\n",
    "import tensorflow as tf\n",
    "from tensorflow.keras.layers import *\n",
    "from keras.preprocessing import image"
   ]
  },
  {
   "cell_type": "markdown",
   "metadata": {},
   "source": [
    "# Data Preprocessing"
   ]
  },
  {
   "cell_type": "code",
   "execution_count": 2,
   "metadata": {
    "id": "YcgqFYpy56Qy"
   },
   "outputs": [
    {
     "name": "stdout",
     "output_type": "stream",
     "text": [
      "Found 8000 images belonging to 2 classes.\n"
     ]
    }
   ],
   "source": [
    "train_datagen = image.ImageDataGenerator(\n",
    "    rescale = 1/255,\n",
    "    zoom_range = 0.2,\n",
    "    shear_range = 0.2,\n",
    "    horizontal_flip= True\n",
    ")\n",
    "train_set = train_datagen.flow_from_directory(\n",
    "    \"dataset/training_set\",\n",
    "    target_size = (64,64),\n",
    "    batch_size = 32,\n",
    "    class_mode = \"binary\"\n",
    ")"
   ]
  },
  {
   "cell_type": "code",
   "execution_count": 3,
   "metadata": {
    "id": "CJp-DUVe7jlS"
   },
   "outputs": [
    {
     "name": "stdout",
     "output_type": "stream",
     "text": [
      "Found 2000 images belonging to 2 classes.\n"
     ]
    }
   ],
   "source": [
    "test_datagen = image.ImageDataGenerator(\n",
    "    rescale = 1/255\n",
    ")\n",
    "test_set = test_datagen.flow_from_directory(\n",
    "    \"dataset/test_set\",\n",
    "    target_size = (64,64),\n",
    "    batch_size = 32,\n",
    "    class_mode = \"binary\"\n",
    ")"
   ]
  },
  {
   "cell_type": "markdown",
   "metadata": {},
   "source": [
    "# Building CNN"
   ]
  },
  {
   "cell_type": "code",
   "execution_count": 4,
   "metadata": {
    "id": "Bwc3lGUT_yKD"
   },
   "outputs": [],
   "source": [
    "cnn = tf.keras.models.Sequential()\n",
    "cnn.add(Conv2D(filters = 32, kernel_size = 3, input_shape = [64,64,3]))\n",
    "cnn.add(MaxPool2D(pool_size = (2,2), strides = 2))\n",
    "cnn.add(Conv2D(filters = 32, kernel_size = 3))\n",
    "cnn.add(Flatten())\n",
    "cnn.add(Dense(units = 128, activation = \"relu\"))\n",
    "cnn.add(Dense(units = 1 , activation = \"sigmoid\"))"
   ]
  },
  {
   "cell_type": "code",
   "execution_count": 11,
   "metadata": {
    "id": "bd1ARAzvBjde"
   },
   "outputs": [
    {
     "name": "stdout",
     "output_type": "stream",
     "text": [
      "Epoch 1/25\n",
      "250/250 [==============================] - 105s 417ms/step - loss: 0.7425 - accuracy: 0.5838 - val_loss: 0.6389 - val_accuracy: 0.6205\n",
      "Epoch 2/25\n",
      "250/250 [==============================] - 44s 177ms/step - loss: 0.6267 - accuracy: 0.6460 - val_loss: 0.6174 - val_accuracy: 0.6655\n",
      "Epoch 3/25\n",
      "250/250 [==============================] - 41s 165ms/step - loss: 0.6213 - accuracy: 0.6536 - val_loss: 0.6364 - val_accuracy: 0.6420\n",
      "Epoch 4/25\n",
      "250/250 [==============================] - 44s 174ms/step - loss: 0.6060 - accuracy: 0.6674 - val_loss: 0.6035 - val_accuracy: 0.6800\n",
      "Epoch 5/25\n",
      "250/250 [==============================] - 42s 168ms/step - loss: 0.6006 - accuracy: 0.6725 - val_loss: 0.5756 - val_accuracy: 0.7030\n",
      "Epoch 6/25\n",
      "250/250 [==============================] - 42s 166ms/step - loss: 0.5823 - accuracy: 0.6940 - val_loss: 0.5864 - val_accuracy: 0.7005\n",
      "Epoch 7/25\n",
      "250/250 [==============================] - 42s 168ms/step - loss: 0.5708 - accuracy: 0.7001 - val_loss: 0.6411 - val_accuracy: 0.6575\n",
      "Epoch 8/25\n",
      "250/250 [==============================] - 41s 165ms/step - loss: 0.5658 - accuracy: 0.7031 - val_loss: 0.6077 - val_accuracy: 0.6730\n",
      "Epoch 9/25\n",
      "250/250 [==============================] - 42s 167ms/step - loss: 0.5535 - accuracy: 0.7184 - val_loss: 0.6049 - val_accuracy: 0.7015\n",
      "Epoch 10/25\n",
      "250/250 [==============================] - 42s 168ms/step - loss: 0.5384 - accuracy: 0.7268 - val_loss: 0.6441 - val_accuracy: 0.6850\n",
      "Epoch 11/25\n",
      "250/250 [==============================] - 42s 167ms/step - loss: 0.5233 - accuracy: 0.7321 - val_loss: 0.5588 - val_accuracy: 0.7290\n",
      "Epoch 12/25\n",
      "250/250 [==============================] - 45s 182ms/step - loss: 0.5183 - accuracy: 0.7500 - val_loss: 0.5844 - val_accuracy: 0.7085\n",
      "Epoch 13/25\n",
      "250/250 [==============================] - 47s 187ms/step - loss: 0.5162 - accuracy: 0.7505 - val_loss: 0.5982 - val_accuracy: 0.6940\n",
      "Epoch 14/25\n",
      "250/250 [==============================] - 45s 178ms/step - loss: 0.5076 - accuracy: 0.7519 - val_loss: 0.6692 - val_accuracy: 0.6915\n",
      "Epoch 15/25\n",
      "250/250 [==============================] - 42s 168ms/step - loss: 0.4955 - accuracy: 0.7559 - val_loss: 0.6333 - val_accuracy: 0.6890\n",
      "Epoch 16/25\n",
      "250/250 [==============================] - 42s 167ms/step - loss: 0.4834 - accuracy: 0.7721 - val_loss: 0.5796 - val_accuracy: 0.7300\n",
      "Epoch 17/25\n",
      "250/250 [==============================] - 42s 167ms/step - loss: 0.4659 - accuracy: 0.7821 - val_loss: 0.6009 - val_accuracy: 0.7215\n",
      "Epoch 18/25\n",
      "250/250 [==============================] - 42s 170ms/step - loss: 0.4681 - accuracy: 0.7793 - val_loss: 0.6116 - val_accuracy: 0.7205\n",
      "Epoch 19/25\n",
      "250/250 [==============================] - 42s 167ms/step - loss: 0.4490 - accuracy: 0.7901 - val_loss: 0.5761 - val_accuracy: 0.7410\n",
      "Epoch 20/25\n",
      "250/250 [==============================] - 43s 173ms/step - loss: 0.4394 - accuracy: 0.7924 - val_loss: 0.6948 - val_accuracy: 0.7320\n",
      "Epoch 21/25\n",
      "250/250 [==============================] - 45s 182ms/step - loss: 0.4349 - accuracy: 0.7983 - val_loss: 0.6013 - val_accuracy: 0.7330\n",
      "Epoch 22/25\n",
      "250/250 [==============================] - 45s 181ms/step - loss: 0.4211 - accuracy: 0.8077 - val_loss: 0.6183 - val_accuracy: 0.7480\n",
      "Epoch 23/25\n",
      "250/250 [==============================] - 44s 176ms/step - loss: 0.4128 - accuracy: 0.8125 - val_loss: 0.6776 - val_accuracy: 0.7140\n",
      "Epoch 24/25\n",
      "250/250 [==============================] - 43s 172ms/step - loss: 0.4108 - accuracy: 0.8112 - val_loss: 0.6581 - val_accuracy: 0.7380\n",
      "Epoch 25/25\n",
      "250/250 [==============================] - 44s 178ms/step - loss: 0.3936 - accuracy: 0.8210 - val_loss: 0.6488 - val_accuracy: 0.7295\n"
     ]
    },
    {
     "data": {
      "text/plain": [
       "<keras.callbacks.History at 0x1544be60640>"
      ]
     },
     "execution_count": 11,
     "metadata": {},
     "output_type": "execute_result"
    }
   ],
   "source": [
    "cnn.compile(optimizer = \"adam\", loss = \"BinaryCrossentropy\", metrics = [\"accuracy\"])\n",
    "cnn.fit(x = train_set, validation_data = test_set, epochs = 25)"
   ]
  },
  {
   "cell_type": "markdown",
   "metadata": {},
   "source": [
    "# Making single prediction"
   ]
  },
  {
   "cell_type": "code",
   "execution_count": 17,
   "metadata": {
    "id": "U5ePD02rup7q"
   },
   "outputs": [
    {
     "name": "stdout",
     "output_type": "stream",
     "text": [
      "1/1 [==============================] - 0s 106ms/step\n"
     ]
    },
    {
     "data": {
      "text/plain": [
       "{'cats': 0, 'dogs': 1}"
      ]
     },
     "execution_count": 17,
     "metadata": {},
     "output_type": "execute_result"
    }
   ],
   "source": [
    "from tensorflow.keras.utils import load_img, img_to_array\n",
    "test_image = load_img(\"dataset/single_prediction/cat_or_dog_1.jpg\" , target_size = (64,64))\n",
    "test_image = img_to_array(test_image)\n",
    "test_image = np.expand_dims(test_image, axis = 0)\n",
    "result = cnn.predict(test_image)\n",
    "train_set.class_indices"
   ]
  },
  {
   "cell_type": "code",
   "execution_count": 18,
   "metadata": {
    "id": "i4VrzkhezwI3"
   },
   "outputs": [
    {
     "name": "stdout",
     "output_type": "stream",
     "text": [
      "dog\n"
     ]
    }
   ],
   "source": [
    "if result[0][0] == 1:\n",
    "  prediction = \"dog\"\n",
    "else:\n",
    "  prediction = \"cat\"\n",
    "\n",
    "print(prediction)"
   ]
  }
 ],
 "metadata": {
  "colab": {
   "provenance": []
  },
  "kernelspec": {
   "display_name": "Python 3 (ipykernel)",
   "language": "python",
   "name": "python3"
  },
  "language_info": {
   "codemirror_mode": {
    "name": "ipython",
    "version": 3
   },
   "file_extension": ".py",
   "mimetype": "text/x-python",
   "name": "python",
   "nbconvert_exporter": "python",
   "pygments_lexer": "ipython3",
   "version": "3.9.13"
  }
 },
 "nbformat": 4,
 "nbformat_minor": 1
}
